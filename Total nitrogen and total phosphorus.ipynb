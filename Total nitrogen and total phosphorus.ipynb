{
 "cells": [
  {
   "cell_type": "markdown",
   "id": "a32a6ff9",
   "metadata": {},
   "source": [
    "# Total Nitrogen"
   ]
  },
  {
   "cell_type": "markdown",
   "id": "e9d29247",
   "metadata": {},
   "source": [
    "## 1. Load dataset from AIMS eReefs"
   ]
  },
  {
   "cell_type": "markdown",
   "id": "2252a0e9",
   "metadata": {},
   "source": [
    "### The dataset timeline is from April,2018 to April, 2019."
   ]
  },
  {
   "cell_type": "code",
   "execution_count": 1,
   "id": "901f8421",
   "metadata": {
    "scrolled": false
   },
   "outputs": [
    {
     "name": "stdout",
     "output_type": "stream",
     "text": [
      "Skipping redownloading extraction data\n"
     ]
    },
    {
     "data": {
      "text/html": [
       "<div>\n",
       "<style scoped>\n",
       "    .dataframe tbody tr th:only-of-type {\n",
       "        vertical-align: middle;\n",
       "    }\n",
       "\n",
       "    .dataframe tbody tr th {\n",
       "        vertical-align: top;\n",
       "    }\n",
       "\n",
       "    .dataframe thead th {\n",
       "        text-align: right;\n",
       "    }\n",
       "</style>\n",
       "<table border=\"1\" class=\"dataframe\">\n",
       "  <thead>\n",
       "    <tr style=\"text-align: right;\">\n",
       "      <th></th>\n",
       "      <th>Aggregated Date/Time</th>\n",
       "      <th>Variable</th>\n",
       "      <th>Site Name</th>\n",
       "      <th>mean</th>\n",
       "    </tr>\n",
       "  </thead>\n",
       "  <tbody>\n",
       "    <tr>\n",
       "      <th>0</th>\n",
       "      <td>2018-04-01</td>\n",
       "      <td>TOTAL_NITROGEN</td>\n",
       "      <td>site1</td>\n",
       "      <td>105.010799</td>\n",
       "    </tr>\n",
       "    <tr>\n",
       "      <th>1</th>\n",
       "      <td>2018-04-01</td>\n",
       "      <td>TOTAL_NITROGEN</td>\n",
       "      <td>site2</td>\n",
       "      <td>125.912900</td>\n",
       "    </tr>\n",
       "    <tr>\n",
       "      <th>2</th>\n",
       "      <td>2018-04-01</td>\n",
       "      <td>DIP</td>\n",
       "      <td>site1</td>\n",
       "      <td>0.688174</td>\n",
       "    </tr>\n",
       "    <tr>\n",
       "      <th>3</th>\n",
       "      <td>2018-04-01</td>\n",
       "      <td>DIP</td>\n",
       "      <td>site2</td>\n",
       "      <td>0.410980</td>\n",
       "    </tr>\n",
       "    <tr>\n",
       "      <th>4</th>\n",
       "      <td>2018-04-01</td>\n",
       "      <td>DOR_P</td>\n",
       "      <td>site1</td>\n",
       "      <td>6.117565</td>\n",
       "    </tr>\n",
       "  </tbody>\n",
       "</table>\n",
       "</div>"
      ],
      "text/plain": [
       "  Aggregated Date/Time        Variable Site Name        mean\n",
       "0           2018-04-01  TOTAL_NITROGEN     site1  105.010799\n",
       "1           2018-04-01  TOTAL_NITROGEN     site2  125.912900\n",
       "2           2018-04-01             DIP     site1    0.688174\n",
       "3           2018-04-01             DIP     site2    0.410980\n",
       "4           2018-04-01           DOR_P     site1    6.117565"
      ]
     },
     "execution_count": 1,
     "metadata": {},
     "output_type": "execute_result"
    }
   ],
   "source": [
    "import os \n",
    "import numpy as np\n",
    "import pandas as pd\n",
    "import xarray as xr\n",
    "import netCDF4\n",
    "from netCDF4 import Dataset, num2date\n",
    "from matplotlib import pyplot as plt\n",
    "import urllib.request\n",
    "import datetime as dt\n",
    "if not os.path.exists('temp'):\n",
    "    os.makedirs('temp')\n",
    "extractionfile = os.path.join('temp','2109.adcc072-collected.csv')\n",
    "if not os.path.exists(extractionfile):\n",
    "    print(\"Downloading extraction data ...\")\n",
    "    url = 'https://api.ereefs.aims.gov.au/data-extraction/request/2109.adcc072/files/2109.adcc072-collected.csv'\n",
    "    req = urllib.request.urlretrieve(url, extractionfile)\n",
    "    print(req)\n",
    "else:\n",
    "    print(\"Skipping redownloading extraction data\")\n",
    "df=pd.read_csv(extractionfile)\n",
    "df['Aggregated Date/Time']=pd.to_datetime(df['Aggregated Date/Time'],format=\"%Y-%m-%d\")\n",
    "data=pd.DataFrame(df,columns=['Aggregated Date/Time','Variable','Site Name','mean'])\n",
    "data.head()"
   ]
  },
  {
   "cell_type": "markdown",
   "id": "884efbd6",
   "metadata": {},
   "source": [
    "## 2. Organize the dataset"
   ]
  },
  {
   "cell_type": "markdown",
   "id": "4abab208",
   "metadata": {},
   "source": [
    "### 2.1 Pick total nitrogen part dataset"
   ]
  },
  {
   "cell_type": "code",
   "execution_count": 2,
   "id": "0e410c70",
   "metadata": {
    "scrolled": true
   },
   "outputs": [
    {
     "data": {
      "text/html": [
       "<div>\n",
       "<style scoped>\n",
       "    .dataframe tbody tr th:only-of-type {\n",
       "        vertical-align: middle;\n",
       "    }\n",
       "\n",
       "    .dataframe tbody tr th {\n",
       "        vertical-align: top;\n",
       "    }\n",
       "\n",
       "    .dataframe thead th {\n",
       "        text-align: right;\n",
       "    }\n",
       "</style>\n",
       "<table border=\"1\" class=\"dataframe\">\n",
       "  <thead>\n",
       "    <tr style=\"text-align: right;\">\n",
       "      <th></th>\n",
       "      <th>Aggregated Date/Time</th>\n",
       "      <th>Variable</th>\n",
       "      <th>Site Name</th>\n",
       "      <th>mean</th>\n",
       "    </tr>\n",
       "  </thead>\n",
       "  <tbody>\n",
       "    <tr>\n",
       "      <th>0</th>\n",
       "      <td>2018-04-01</td>\n",
       "      <td>TOTAL_NITROGEN</td>\n",
       "      <td>site1</td>\n",
       "      <td>105.010799</td>\n",
       "    </tr>\n",
       "    <tr>\n",
       "      <th>1</th>\n",
       "      <td>2018-04-01</td>\n",
       "      <td>TOTAL_NITROGEN</td>\n",
       "      <td>site2</td>\n",
       "      <td>125.912900</td>\n",
       "    </tr>\n",
       "    <tr>\n",
       "      <th>8</th>\n",
       "      <td>2018-04-02</td>\n",
       "      <td>TOTAL_NITROGEN</td>\n",
       "      <td>site1</td>\n",
       "      <td>104.463466</td>\n",
       "    </tr>\n",
       "    <tr>\n",
       "      <th>9</th>\n",
       "      <td>2018-04-02</td>\n",
       "      <td>TOTAL_NITROGEN</td>\n",
       "      <td>site2</td>\n",
       "      <td>138.695269</td>\n",
       "    </tr>\n",
       "    <tr>\n",
       "      <th>16</th>\n",
       "      <td>2018-04-03</td>\n",
       "      <td>TOTAL_NITROGEN</td>\n",
       "      <td>site1</td>\n",
       "      <td>104.600356</td>\n",
       "    </tr>\n",
       "  </tbody>\n",
       "</table>\n",
       "</div>"
      ],
      "text/plain": [
       "   Aggregated Date/Time        Variable Site Name        mean\n",
       "0            2018-04-01  TOTAL_NITROGEN     site1  105.010799\n",
       "1            2018-04-01  TOTAL_NITROGEN     site2  125.912900\n",
       "8            2018-04-02  TOTAL_NITROGEN     site1  104.463466\n",
       "9            2018-04-02  TOTAL_NITROGEN     site2  138.695269\n",
       "16           2018-04-03  TOTAL_NITROGEN     site1  104.600356"
      ]
     },
     "execution_count": 2,
     "metadata": {},
     "output_type": "execute_result"
    }
   ],
   "source": [
    "sheet =data[data['Variable'].str.contains(\"TOTAL_NITROGEN\")]\n",
    "sheet.head()"
   ]
  },
  {
   "cell_type": "markdown",
   "id": "d71abc8d",
   "metadata": {},
   "source": [
    "### 2.2 Rebuild the sheet"
   ]
  },
  {
   "cell_type": "code",
   "execution_count": 3,
   "id": "e74cd82a",
   "metadata": {
    "scrolled": false
   },
   "outputs": [
    {
     "data": {
      "text/html": [
       "<div>\n",
       "<style scoped>\n",
       "    .dataframe tbody tr th:only-of-type {\n",
       "        vertical-align: middle;\n",
       "    }\n",
       "\n",
       "    .dataframe tbody tr th {\n",
       "        vertical-align: top;\n",
       "    }\n",
       "\n",
       "    .dataframe thead th {\n",
       "        text-align: right;\n",
       "    }\n",
       "</style>\n",
       "<table border=\"1\" class=\"dataframe\">\n",
       "  <thead>\n",
       "    <tr style=\"text-align: right;\">\n",
       "      <th></th>\n",
       "      <th></th>\n",
       "      <th>mean</th>\n",
       "    </tr>\n",
       "    <tr>\n",
       "      <th>Aggregated Date/Time</th>\n",
       "      <th>Site Name</th>\n",
       "      <th></th>\n",
       "    </tr>\n",
       "  </thead>\n",
       "  <tbody>\n",
       "    <tr>\n",
       "      <th rowspan=\"2\" valign=\"top\">2018-04-01</th>\n",
       "      <th>site1</th>\n",
       "      <td>105.010799</td>\n",
       "    </tr>\n",
       "    <tr>\n",
       "      <th>site2</th>\n",
       "      <td>125.912900</td>\n",
       "    </tr>\n",
       "    <tr>\n",
       "      <th rowspan=\"2\" valign=\"top\">2018-04-02</th>\n",
       "      <th>site1</th>\n",
       "      <td>104.463466</td>\n",
       "    </tr>\n",
       "    <tr>\n",
       "      <th>site2</th>\n",
       "      <td>138.695269</td>\n",
       "    </tr>\n",
       "    <tr>\n",
       "      <th>2018-04-03</th>\n",
       "      <th>site1</th>\n",
       "      <td>104.600356</td>\n",
       "    </tr>\n",
       "  </tbody>\n",
       "</table>\n",
       "</div>"
      ],
      "text/plain": [
       "                                      mean\n",
       "Aggregated Date/Time Site Name            \n",
       "2018-04-01           site1      105.010799\n",
       "                     site2      125.912900\n",
       "2018-04-02           site1      104.463466\n",
       "                     site2      138.695269\n",
       "2018-04-03           site1      104.600356"
      ]
     },
     "execution_count": 3,
     "metadata": {},
     "output_type": "execute_result"
    }
   ],
   "source": [
    "newdata=pd.pivot_table(sheet,index=['Aggregated Date/Time','Site Name'],values=['mean'])\n",
    "newdata.head()"
   ]
  },
  {
   "cell_type": "markdown",
   "id": "78537a39",
   "metadata": {},
   "source": [
    "## 3. Create the plots"
   ]
  },
  {
   "cell_type": "markdown",
   "id": "974bff59",
   "metadata": {},
   "source": [
    "### The plots tells changes of mean total nitrogen concentration for four seasons."
   ]
  },
  {
   "cell_type": "code",
   "execution_count": 4,
   "id": "094a7e69",
   "metadata": {
    "scrolled": true
   },
   "outputs": [
    {
     "data": {
      "image/png": "[encoded data removed]",
      "text/plain": [
       "<Figure size 720x504 with 4 Axes>"
      ]
     },
     "metadata": {
      "needs_background": "light"
     },
     "output_type": "display_data"
    }
   ],
   "source": [
    "%matplotlib inline\n",
    "import seaborn as sns\n",
    "import matplotlib.pyplot as plt\n",
    "import matplotlib.dates as mdates\n",
    "\n",
    "fig, ax = plt.subplots(figsize = (10, 7))\n",
    "plt.subplot(2,2,1)\n",
    "winter=sns.lineplot(x='Aggregated Date/Time', y='mean', hue='Site Name', data=newdata['2018-06-01':'2018-08-31'])#winter\n",
    "#ax = plt.gca()\n",
    "plt.xticks(rotation=30)\n",
    "plt.title('Mean total nitrogen vs. Date')\n",
    "plt.legend(fontsize=9)\n",
    "plt.xlabel('Winter',fontsize=11)\n",
    "plt.ylabel('Mean Total Nitrogen(mg N m-3)',fontsize=11)\n",
    "plt.ylim([50, 200])\n",
    "\n",
    "plt.subplot(2,2,2)\n",
    "spring=sns.lineplot(x='Aggregated Date/Time', y='mean', hue='Site Name', data=newdata['2018-09-01':'2018-11-30'])#spring\n",
    "#ax = plt.gca()\n",
    "plt.xticks(rotation=30)\n",
    "plt.title('Mean total nitrogen vs. Date')\n",
    "plt.legend(fontsize=9)\n",
    "plt.xlabel('Spring',fontsize=11)\n",
    "plt.ylabel('Mean Total Nitrogen(mg N m-3)',fontsize=11)\n",
    "plt.ylim([50, 200])\n",
    "\n",
    "plt.subplot(2,2,3)\n",
    "summer=sns.lineplot(x='Aggregated Date/Time', y='mean', hue='Site Name',data=newdata['2018-12-01':'2019-02-28'])#summer\n",
    "#ax = plt.gca()\n",
    "plt.xticks(rotation=30)\n",
    "plt.title('Mean total nitrogen vs. Date')\n",
    "plt.legend(fontsize=9)\n",
    "plt.xlabel('Summer',fontsize=11)\n",
    "plt.ylabel('Mean Total Nitrogen(mg N m-3)',fontsize=11)\n",
    "plt.ylim([50, 200])\n",
    "\n",
    "plt.subplot(2,2,4)\n",
    "fall=sns.lineplot(x='Aggregated Date/Time', y='mean', hue='Site Name', data=newdata['2019-03-1':'2019-04-30'])#fall\n",
    "ax = plt.gca()\n",
    "ax.xaxis.set_major_locator(mdates.WeekdayLocator(byweekday=mdates.FR, interval=2))\n",
    "ax.xaxis.set_major_formatter(mdates.DateFormatter('%Y-%m-%d'))\n",
    "plt.xticks(rotation=30)\n",
    "plt.title('Mean total nitrogen vs. Date')\n",
    "plt.legend(fontsize=9)\n",
    "plt.xlabel('Autumn',fontsize=11)\n",
    "plt.ylabel('Mean Total Nitrogen(mg N m-3)',fontsize=11)\n",
    "plt.ylim([50, 200])\n",
    "\n",
    "plt.subplots_adjust(left=0.5,bottom=0.5,right=1.5, top=1.5, wspace=0.3, hspace=0.5)\n",
    "\n",
    "fig.savefig('The TN change of Four seasons.jpg',bbox_inches=\"tight\")\n",
    "plt.show()"
   ]
  },
  {
   "cell_type": "markdown",
   "id": "8f1376e7",
   "metadata": {},
   "source": [
    "### Site 1 has a higher nitrogen concentration throughout the year. It also has a relatively stable nitrogen concentration in water bodies, the fluctuations insite 2 are more frequently and with a higher amplitude than site 1. In summer, both site 1 and site 2 have most dramatically fluctuations."
   ]
  },
  {
   "cell_type": "markdown",
   "id": "898f75b4",
   "metadata": {},
   "source": [
    "# Total Phosphorus "
   ]
  },
  {
   "cell_type": "markdown",
   "id": "3ad9ca34",
   "metadata": {},
   "source": [
    "## 1. Load dataset from AIMS eReefs"
   ]
  },
  {
   "cell_type": "markdown",
   "id": "882602a0",
   "metadata": {},
   "source": [
    "### The dataset timeline is from April,2018 to April, 2019."
   ]
  },
  {
   "cell_type": "code",
   "execution_count": 5,
   "id": "f3583a60",
   "metadata": {
    "scrolled": false
   },
   "outputs": [
    {
     "name": "stdout",
     "output_type": "stream",
     "text": [
      "Skipping redownloading extraction data\n"
     ]
    },
    {
     "data": {
      "text/html": [
       "<div>\n",
       "<style scoped>\n",
       "    .dataframe tbody tr th:only-of-type {\n",
       "        vertical-align: middle;\n",
       "    }\n",
       "\n",
       "    .dataframe tbody tr th {\n",
       "        vertical-align: top;\n",
       "    }\n",
       "\n",
       "    .dataframe thead th {\n",
       "        text-align: right;\n",
       "    }\n",
       "</style>\n",
       "<table border=\"1\" class=\"dataframe\">\n",
       "  <thead>\n",
       "    <tr style=\"text-align: right;\">\n",
       "      <th></th>\n",
       "      <th>Aggregated Date/Time</th>\n",
       "      <th>Variable</th>\n",
       "      <th>Site Name</th>\n",
       "      <th>mean</th>\n",
       "    </tr>\n",
       "  </thead>\n",
       "  <tbody>\n",
       "    <tr>\n",
       "      <th>0</th>\n",
       "      <td>2018-04-01</td>\n",
       "      <td>DIP</td>\n",
       "      <td>site1</td>\n",
       "      <td>0.204871</td>\n",
       "    </tr>\n",
       "    <tr>\n",
       "      <th>1</th>\n",
       "      <td>2018-04-01</td>\n",
       "      <td>DIP</td>\n",
       "      <td>site2</td>\n",
       "      <td>0.515075</td>\n",
       "    </tr>\n",
       "    <tr>\n",
       "      <th>2</th>\n",
       "      <td>2018-04-01</td>\n",
       "      <td>PIP</td>\n",
       "      <td>site1</td>\n",
       "      <td>0.003282</td>\n",
       "    </tr>\n",
       "    <tr>\n",
       "      <th>3</th>\n",
       "      <td>2018-04-01</td>\n",
       "      <td>PIP</td>\n",
       "      <td>site2</td>\n",
       "      <td>0.275677</td>\n",
       "    </tr>\n",
       "    <tr>\n",
       "      <th>4</th>\n",
       "      <td>2018-04-01</td>\n",
       "      <td>DOR_P</td>\n",
       "      <td>site1</td>\n",
       "      <td>5.946934</td>\n",
       "    </tr>\n",
       "  </tbody>\n",
       "</table>\n",
       "</div>"
      ],
      "text/plain": [
       "  Aggregated Date/Time Variable Site Name      mean\n",
       "0           2018-04-01      DIP     site1  0.204871\n",
       "1           2018-04-01      DIP     site2  0.515075\n",
       "2           2018-04-01      PIP     site1  0.003282\n",
       "3           2018-04-01      PIP     site2  0.275677\n",
       "4           2018-04-01    DOR_P     site1  5.946934"
      ]
     },
     "execution_count": 5,
     "metadata": {},
     "output_type": "execute_result"
    }
   ],
   "source": [
    "if not os.path.exists('temp'):\n",
    "    os.makedirs('temp')\n",
    "extractionfile = os.path.join('temp','2110.705202c-collected.csv')\n",
    "if not os.path.exists(extractionfile):\n",
    "    print(\"Downloading extraction data ...\")\n",
    "    url = 'https://api.ereefs.aims.gov.au/data-extraction/request/2110.705202c/files/2110.705202c-collected.csv'\n",
    "    req = urllib.request.urlretrieve(url, extractionfile)\n",
    "    print(req)\n",
    "else:\n",
    "    print(\"Skipping redownloading extraction data\")\n",
    "df1=pd.read_csv(extractionfile)\n",
    "df1['Aggregated Date/Time']=pd.to_datetime(df1['Aggregated Date/Time']).dt.date#Creating new column with just the date\n",
    "data1=pd.DataFrame(df1,columns=['Aggregated Date/Time','Variable','Site Name','mean'])\n",
    "data1.head()"
   ]
  },
  {
   "cell_type": "markdown",
   "id": "4a2477d6",
   "metadata": {},
   "source": [
    "### These are the explanations for the abbreviations in the table: dissolved inorganic phosphorus (DIP), dissolved organic phosphorus (DORP) , particulate inorganic phosphorus (PIP)"
   ]
  },
  {
   "cell_type": "markdown",
   "id": "83d5dc27",
   "metadata": {},
   "source": [
    "## 2. Organize the dataset"
   ]
  },
  {
   "cell_type": "markdown",
   "id": "0bb1bfa0",
   "metadata": {},
   "source": [
    "### 2.1 Exchange the rows and columns"
   ]
  },
  {
   "cell_type": "code",
   "execution_count": 6,
   "id": "837cadd7",
   "metadata": {
    "scrolled": true
   },
   "outputs": [
    {
     "data": {
      "text/html": [
       "<div>\n",
       "<style scoped>\n",
       "    .dataframe tbody tr th:only-of-type {\n",
       "        vertical-align: middle;\n",
       "    }\n",
       "\n",
       "    .dataframe tbody tr th {\n",
       "        vertical-align: top;\n",
       "    }\n",
       "\n",
       "    .dataframe thead th {\n",
       "        text-align: right;\n",
       "    }\n",
       "</style>\n",
       "<table border=\"1\" class=\"dataframe\">\n",
       "  <thead>\n",
       "    <tr style=\"text-align: right;\">\n",
       "      <th></th>\n",
       "      <th>Site Name</th>\n",
       "      <th>Aggregated Date/Time</th>\n",
       "      <th>DIP</th>\n",
       "      <th>DOR_P</th>\n",
       "      <th>PIP</th>\n",
       "    </tr>\n",
       "  </thead>\n",
       "  <tbody>\n",
       "    <tr>\n",
       "      <th>0</th>\n",
       "      <td>site1</td>\n",
       "      <td>2018-04</td>\n",
       "      <td>0.204871</td>\n",
       "      <td>5.946934</td>\n",
       "      <td>0.003282</td>\n",
       "    </tr>\n",
       "    <tr>\n",
       "      <th>1</th>\n",
       "      <td>site1</td>\n",
       "      <td>2018-05</td>\n",
       "      <td>0.052733</td>\n",
       "      <td>6.373219</td>\n",
       "      <td>0.000835</td>\n",
       "    </tr>\n",
       "    <tr>\n",
       "      <th>2</th>\n",
       "      <td>site1</td>\n",
       "      <td>2018-06</td>\n",
       "      <td>0.031383</td>\n",
       "      <td>7.354760</td>\n",
       "      <td>0.000522</td>\n",
       "    </tr>\n",
       "    <tr>\n",
       "      <th>3</th>\n",
       "      <td>site1</td>\n",
       "      <td>2018-07</td>\n",
       "      <td>0.027131</td>\n",
       "      <td>7.441733</td>\n",
       "      <td>0.000465</td>\n",
       "    </tr>\n",
       "    <tr>\n",
       "      <th>4</th>\n",
       "      <td>site1</td>\n",
       "      <td>2018-08</td>\n",
       "      <td>0.019195</td>\n",
       "      <td>7.514895</td>\n",
       "      <td>0.000386</td>\n",
       "    </tr>\n",
       "  </tbody>\n",
       "</table>\n",
       "</div>"
      ],
      "text/plain": [
       "  Site Name Aggregated Date/Time       DIP     DOR_P       PIP\n",
       "0     site1              2018-04  0.204871  5.946934  0.003282\n",
       "1     site1              2018-05  0.052733  6.373219  0.000835\n",
       "2     site1              2018-06  0.031383  7.354760  0.000522\n",
       "3     site1              2018-07  0.027131  7.441733  0.000465\n",
       "4     site1              2018-08  0.019195  7.514895  0.000386"
      ]
     },
     "execution_count": 6,
     "metadata": {},
     "output_type": "execute_result"
    }
   ],
   "source": [
    "df2=(data1.set_index([ \"Site Name\",\"Aggregated Date/Time\"])\n",
    "    .pivot(columns=\"Variable\")['mean'].reset_index()\n",
    "        .rename_axis(None, axis=1)\n",
    ")\n",
    "df2['Aggregated Date/Time']=pd.to_datetime(df2['Aggregated Date/Time'])\n",
    "df2['Aggregated Date/Time']=df2['Aggregated Date/Time'].dt.strftime('%Y-%m')\n",
    "df2.head()"
   ]
  },
  {
   "cell_type": "markdown",
   "id": "e53964f4",
   "metadata": {},
   "source": [
    "### 2.2 Check the sheet type"
   ]
  },
  {
   "cell_type": "code",
   "execution_count": 7,
   "id": "bdab3aa3",
   "metadata": {},
   "outputs": [
    {
     "data": {
      "text/plain": [
       "Site Name                object\n",
       "Aggregated Date/Time     object\n",
       "DIP                     float64\n",
       "DOR_P                   float64\n",
       "PIP                     float64\n",
       "dtype: object"
      ]
     },
     "execution_count": 7,
     "metadata": {},
     "output_type": "execute_result"
    }
   ],
   "source": [
    "df2.dtypes"
   ]
  },
  {
   "cell_type": "markdown",
   "id": "f34a98f4",
   "metadata": {},
   "source": [
    "### 2.3 Classify the sheet by site name"
   ]
  },
  {
   "cell_type": "code",
   "execution_count": 8,
   "id": "9078d1a7",
   "metadata": {},
   "outputs": [
    {
     "data": {
      "text/plain": [
       "<pandas.core.groupby.generic.DataFrameGroupBy object at 0x7f63003383a0>"
      ]
     },
     "execution_count": 8,
     "metadata": {},
     "output_type": "execute_result"
    }
   ],
   "source": [
    "gb= df2.groupby(\"Site Name\")\n",
    "gb"
   ]
  },
  {
   "cell_type": "markdown",
   "id": "8ab9d30e",
   "metadata": {},
   "source": [
    "### This is a table with different types phosphorus for site 1."
   ]
  },
  {
   "cell_type": "code",
   "execution_count": 9,
   "id": "3c88489b",
   "metadata": {
    "scrolled": true
   },
   "outputs": [
    {
     "data": {
      "text/html": [
       "<div>\n",
       "<style scoped>\n",
       "    .dataframe tbody tr th:only-of-type {\n",
       "        vertical-align: middle;\n",
       "    }\n",
       "\n",
       "    .dataframe tbody tr th {\n",
       "        vertical-align: top;\n",
       "    }\n",
       "\n",
       "    .dataframe thead th {\n",
       "        text-align: right;\n",
       "    }\n",
       "</style>\n",
       "<table border=\"1\" class=\"dataframe\">\n",
       "  <thead>\n",
       "    <tr style=\"text-align: right;\">\n",
       "      <th></th>\n",
       "      <th>Site Name</th>\n",
       "      <th>Aggregated Date/Time</th>\n",
       "      <th>DIP</th>\n",
       "      <th>DOR_P</th>\n",
       "      <th>PIP</th>\n",
       "    </tr>\n",
       "  </thead>\n",
       "  <tbody>\n",
       "    <tr>\n",
       "      <th>0</th>\n",
       "      <td>site1</td>\n",
       "      <td>2018-04</td>\n",
       "      <td>0.204871</td>\n",
       "      <td>5.946934</td>\n",
       "      <td>0.003282</td>\n",
       "    </tr>\n",
       "    <tr>\n",
       "      <th>1</th>\n",
       "      <td>site1</td>\n",
       "      <td>2018-05</td>\n",
       "      <td>0.052733</td>\n",
       "      <td>6.373219</td>\n",
       "      <td>0.000835</td>\n",
       "    </tr>\n",
       "    <tr>\n",
       "      <th>2</th>\n",
       "      <td>site1</td>\n",
       "      <td>2018-06</td>\n",
       "      <td>0.031383</td>\n",
       "      <td>7.354760</td>\n",
       "      <td>0.000522</td>\n",
       "    </tr>\n",
       "    <tr>\n",
       "      <th>3</th>\n",
       "      <td>site1</td>\n",
       "      <td>2018-07</td>\n",
       "      <td>0.027131</td>\n",
       "      <td>7.441733</td>\n",
       "      <td>0.000465</td>\n",
       "    </tr>\n",
       "    <tr>\n",
       "      <th>4</th>\n",
       "      <td>site1</td>\n",
       "      <td>2018-08</td>\n",
       "      <td>0.019195</td>\n",
       "      <td>7.514895</td>\n",
       "      <td>0.000386</td>\n",
       "    </tr>\n",
       "  </tbody>\n",
       "</table>\n",
       "</div>"
      ],
      "text/plain": [
       "  Site Name Aggregated Date/Time       DIP     DOR_P       PIP\n",
       "0     site1              2018-04  0.204871  5.946934  0.003282\n",
       "1     site1              2018-05  0.052733  6.373219  0.000835\n",
       "2     site1              2018-06  0.031383  7.354760  0.000522\n",
       "3     site1              2018-07  0.027131  7.441733  0.000465\n",
       "4     site1              2018-08  0.019195  7.514895  0.000386"
      ]
     },
     "execution_count": 9,
     "metadata": {},
     "output_type": "execute_result"
    }
   ],
   "source": [
    "site1=gb.get_group(\"site1\")#.head()\n",
    "site1.head()"
   ]
  },
  {
   "cell_type": "markdown",
   "id": "4711554b",
   "metadata": {},
   "source": [
    "### This is a table with different types phosphorus for site 2."
   ]
  },
  {
   "cell_type": "code",
   "execution_count": 10,
   "id": "a9d7a77f",
   "metadata": {},
   "outputs": [
    {
     "data": {
      "text/html": [
       "<div>\n",
       "<style scoped>\n",
       "    .dataframe tbody tr th:only-of-type {\n",
       "        vertical-align: middle;\n",
       "    }\n",
       "\n",
       "    .dataframe tbody tr th {\n",
       "        vertical-align: top;\n",
       "    }\n",
       "\n",
       "    .dataframe thead th {\n",
       "        text-align: right;\n",
       "    }\n",
       "</style>\n",
       "<table border=\"1\" class=\"dataframe\">\n",
       "  <thead>\n",
       "    <tr style=\"text-align: right;\">\n",
       "      <th></th>\n",
       "      <th>Site Name</th>\n",
       "      <th>Aggregated Date/Time</th>\n",
       "      <th>DIP</th>\n",
       "      <th>DOR_P</th>\n",
       "      <th>PIP</th>\n",
       "    </tr>\n",
       "  </thead>\n",
       "  <tbody>\n",
       "    <tr>\n",
       "      <th>13</th>\n",
       "      <td>site2</td>\n",
       "      <td>2018-04</td>\n",
       "      <td>0.515075</td>\n",
       "      <td>8.770254</td>\n",
       "      <td>0.275677</td>\n",
       "    </tr>\n",
       "    <tr>\n",
       "      <th>14</th>\n",
       "      <td>site2</td>\n",
       "      <td>2018-05</td>\n",
       "      <td>0.151865</td>\n",
       "      <td>10.290642</td>\n",
       "      <td>0.075356</td>\n",
       "    </tr>\n",
       "    <tr>\n",
       "      <th>15</th>\n",
       "      <td>site2</td>\n",
       "      <td>2018-06</td>\n",
       "      <td>0.115595</td>\n",
       "      <td>10.548153</td>\n",
       "      <td>0.024382</td>\n",
       "    </tr>\n",
       "    <tr>\n",
       "      <th>16</th>\n",
       "      <td>site2</td>\n",
       "      <td>2018-07</td>\n",
       "      <td>0.087897</td>\n",
       "      <td>9.974282</td>\n",
       "      <td>0.016591</td>\n",
       "    </tr>\n",
       "    <tr>\n",
       "      <th>17</th>\n",
       "      <td>site2</td>\n",
       "      <td>2018-08</td>\n",
       "      <td>0.086468</td>\n",
       "      <td>9.863286</td>\n",
       "      <td>0.010199</td>\n",
       "    </tr>\n",
       "  </tbody>\n",
       "</table>\n",
       "</div>"
      ],
      "text/plain": [
       "   Site Name Aggregated Date/Time       DIP      DOR_P       PIP\n",
       "13     site2              2018-04  0.515075   8.770254  0.275677\n",
       "14     site2              2018-05  0.151865  10.290642  0.075356\n",
       "15     site2              2018-06  0.115595  10.548153  0.024382\n",
       "16     site2              2018-07  0.087897   9.974282  0.016591\n",
       "17     site2              2018-08  0.086468   9.863286  0.010199"
      ]
     },
     "execution_count": 10,
     "metadata": {},
     "output_type": "execute_result"
    }
   ],
   "source": [
    "site2=gb.get_group(\"site2\")#.head()\n",
    "site2.head()"
   ]
  },
  {
   "cell_type": "markdown",
   "id": "5e8209d0",
   "metadata": {},
   "source": [
    "### 2.4 Redefine the table based on time"
   ]
  },
  {
   "cell_type": "code",
   "execution_count": 11,
   "id": "2ced5566",
   "metadata": {
    "scrolled": true
   },
   "outputs": [
    {
     "data": {
      "text/html": [
       "<div>\n",
       "<style scoped>\n",
       "    .dataframe tbody tr th:only-of-type {\n",
       "        vertical-align: middle;\n",
       "    }\n",
       "\n",
       "    .dataframe tbody tr th {\n",
       "        vertical-align: top;\n",
       "    }\n",
       "\n",
       "    .dataframe thead th {\n",
       "        text-align: right;\n",
       "    }\n",
       "</style>\n",
       "<table border=\"1\" class=\"dataframe\">\n",
       "  <thead>\n",
       "    <tr style=\"text-align: right;\">\n",
       "      <th></th>\n",
       "      <th>DIP</th>\n",
       "      <th>DOR_P</th>\n",
       "      <th>PIP</th>\n",
       "    </tr>\n",
       "    <tr>\n",
       "      <th>Aggregated Date/Time</th>\n",
       "      <th></th>\n",
       "      <th></th>\n",
       "      <th></th>\n",
       "    </tr>\n",
       "  </thead>\n",
       "  <tbody>\n",
       "    <tr>\n",
       "      <th>2018-04</th>\n",
       "      <td>0.204871</td>\n",
       "      <td>5.946934</td>\n",
       "      <td>0.003282</td>\n",
       "    </tr>\n",
       "    <tr>\n",
       "      <th>2018-05</th>\n",
       "      <td>0.052733</td>\n",
       "      <td>6.373219</td>\n",
       "      <td>0.000835</td>\n",
       "    </tr>\n",
       "    <tr>\n",
       "      <th>2018-06</th>\n",
       "      <td>0.031383</td>\n",
       "      <td>7.354760</td>\n",
       "      <td>0.000522</td>\n",
       "    </tr>\n",
       "    <tr>\n",
       "      <th>2018-07</th>\n",
       "      <td>0.027131</td>\n",
       "      <td>7.441733</td>\n",
       "      <td>0.000465</td>\n",
       "    </tr>\n",
       "    <tr>\n",
       "      <th>2018-08</th>\n",
       "      <td>0.019195</td>\n",
       "      <td>7.514895</td>\n",
       "      <td>0.000386</td>\n",
       "    </tr>\n",
       "  </tbody>\n",
       "</table>\n",
       "</div>"
      ],
      "text/plain": [
       "                           DIP     DOR_P       PIP\n",
       "Aggregated Date/Time                              \n",
       "2018-04               0.204871  5.946934  0.003282\n",
       "2018-05               0.052733  6.373219  0.000835\n",
       "2018-06               0.031383  7.354760  0.000522\n",
       "2018-07               0.027131  7.441733  0.000465\n",
       "2018-08               0.019195  7.514895  0.000386"
      ]
     },
     "execution_count": 11,
     "metadata": {},
     "output_type": "execute_result"
    }
   ],
   "source": [
    "newsite1=pd.pivot_table(site1,index=['Aggregated Date/Time'],values=['DIP','DOR_P','PIP'])\n",
    "newsite1.head()"
   ]
  },
  {
   "cell_type": "code",
   "execution_count": 12,
   "id": "e1c5b205",
   "metadata": {},
   "outputs": [
    {
     "data": {
      "text/html": [
       "<div>\n",
       "<style scoped>\n",
       "    .dataframe tbody tr th:only-of-type {\n",
       "        vertical-align: middle;\n",
       "    }\n",
       "\n",
       "    .dataframe tbody tr th {\n",
       "        vertical-align: top;\n",
       "    }\n",
       "\n",
       "    .dataframe thead th {\n",
       "        text-align: right;\n",
       "    }\n",
       "</style>\n",
       "<table border=\"1\" class=\"dataframe\">\n",
       "  <thead>\n",
       "    <tr style=\"text-align: right;\">\n",
       "      <th></th>\n",
       "      <th>DIP</th>\n",
       "      <th>DOR_P</th>\n",
       "      <th>PIP</th>\n",
       "    </tr>\n",
       "    <tr>\n",
       "      <th>Aggregated Date/Time</th>\n",
       "      <th></th>\n",
       "      <th></th>\n",
       "      <th></th>\n",
       "    </tr>\n",
       "  </thead>\n",
       "  <tbody>\n",
       "    <tr>\n",
       "      <th>2018-04</th>\n",
       "      <td>0.515075</td>\n",
       "      <td>8.770254</td>\n",
       "      <td>0.275677</td>\n",
       "    </tr>\n",
       "    <tr>\n",
       "      <th>2018-05</th>\n",
       "      <td>0.151865</td>\n",
       "      <td>10.290642</td>\n",
       "      <td>0.075356</td>\n",
       "    </tr>\n",
       "    <tr>\n",
       "      <th>2018-06</th>\n",
       "      <td>0.115595</td>\n",
       "      <td>10.548153</td>\n",
       "      <td>0.024382</td>\n",
       "    </tr>\n",
       "    <tr>\n",
       "      <th>2018-07</th>\n",
       "      <td>0.087897</td>\n",
       "      <td>9.974282</td>\n",
       "      <td>0.016591</td>\n",
       "    </tr>\n",
       "    <tr>\n",
       "      <th>2018-08</th>\n",
       "      <td>0.086468</td>\n",
       "      <td>9.863286</td>\n",
       "      <td>0.010199</td>\n",
       "    </tr>\n",
       "  </tbody>\n",
       "</table>\n",
       "</div>"
      ],
      "text/plain": [
       "                           DIP      DOR_P       PIP\n",
       "Aggregated Date/Time                               \n",
       "2018-04               0.515075   8.770254  0.275677\n",
       "2018-05               0.151865  10.290642  0.075356\n",
       "2018-06               0.115595  10.548153  0.024382\n",
       "2018-07               0.087897   9.974282  0.016591\n",
       "2018-08               0.086468   9.863286  0.010199"
      ]
     },
     "execution_count": 12,
     "metadata": {},
     "output_type": "execute_result"
    }
   ],
   "source": [
    "newsite2=pd.pivot_table(site2,index=['Aggregated Date/Time'],values=['DIP','DOR_P','PIP'])\n",
    "newsite2.head()"
   ]
  },
  {
   "cell_type": "markdown",
   "id": "63935f1a",
   "metadata": {},
   "source": [
    "## 3. Stacked bar plots for site 1 and site 2"
   ]
  },
  {
   "cell_type": "code",
   "execution_count": 13,
   "id": "2df26cd1",
   "metadata": {
    "scrolled": false
   },
   "outputs": [
    {
     "data": {
      "image/png": "[encoded data removed]",
      "text/plain": [
       "<Figure size 576x432 with 1 Axes>"
      ]
     },
     "metadata": {
      "needs_background": "light"
     },
     "output_type": "display_data"
    },
    {
     "data": {
      "image/png": "[encoded data removed]",
      "text/plain": [
       "<Figure size 576x432 with 1 Axes>"
      ]
     },
     "metadata": {
      "needs_background": "light"
     },
     "output_type": "display_data"
    }
   ],
   "source": [
    "plot_site1=newsite1.plot(kind='bar', stacked=True,figsize= (8,6))\n",
    "plt.xticks(rotation=30)\n",
    "plt.yticks(fontsize=10)\n",
    "plt.ylim([0, 12])\n",
    "plt.xlabel('Aggregated Date/Time',fontsize=10)\n",
    "plt.ylabel('Mean total phosphorus(mg P m-3) ',fontsize=10)\n",
    "plt.legend(fontsize='10')\n",
    "plt.title('Mean total phosphorus(site1) vs. Date',size='10')\n",
    "plt.savefig('Mean total phosphorus_site1.jpg',bbox_inches=\"tight\")\n",
    "\n",
    "plot_site2=newsite2.plot(kind='bar', stacked=True,figsize= (8,6))\n",
    "plt.xticks(rotation=30)\n",
    "plt.yticks(fontsize=10)\n",
    "plt.ylim([0, 12])\n",
    "plt.xlabel('Aggregated Date/Time',fontsize=10)\n",
    "plt.ylabel('Mean total phosphorus(mg P m-3) ',fontsize=10)\n",
    "plt.legend(fontsize='10')\n",
    "plt.title('Mean total phosphorus(site2) vs. Date',size='10')\n",
    "\n",
    "plt.savefig('Mean total phosphorus_site2.jpg',bbox_inches=\"tight\")\n",
    "plt.show()"
   ]
  },
  {
   "cell_type": "markdown",
   "id": "fb1a1351",
   "metadata": {},
   "source": [
    "### In this period, mean total phosphorus value for site 2 is commonly hight than that of site 1, especially in summer. PIP content is not obviously showed in site 1. From site 2 chart, we can see in February 2019, mean total phosphorus reach the highest value."
   ]
  }
 ],
 "metadata": {
  "kernelspec": {
   "display_name": "Python 3 (ipykernel)",
   "language": "python",
   "name": "python3"
  },
  "language_info": {
   "codemirror_mode": {
    "name": "ipython",
    "version": 3
   },
   "file_extension": ".py",
   "mimetype": "text/x-python",
   "name": "python",
   "nbconvert_exporter": "python",
   "pygments_lexer": "ipython3",
   "version": "3.9.7"
  }
 },
 "nbformat": 4,
 "nbformat_minor": 5
}
